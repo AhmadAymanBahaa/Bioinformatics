{
 "cells": [
  {
   "cell_type": "markdown",
   "id": "e95f0411",
   "metadata": {},
   "source": [
    "# Name: Ahmad Ayman M. Bahaa El-Din\n",
    "# Semester: Spring 2021\n",
    "# ID: 17P6053\n",
    "# Dot Matrix Using Window Scoring "
   ]
  },
  {
   "cell_type": "code",
   "execution_count": 1,
   "id": "ebf957cb",
   "metadata": {},
   "outputs": [],
   "source": [
    "# !pip install matplotlib"
   ]
  },
  {
   "cell_type": "code",
   "execution_count": 2,
   "id": "db5cd669",
   "metadata": {},
   "outputs": [],
   "source": [
    "# ! jupyter-nbconvert --to PDFviaHTML DotMatrixUsingWindowScoring.ipynb"
   ]
  },
  {
   "cell_type": "markdown",
   "id": "c0ce8b9b",
   "metadata": {},
   "source": [
    "###  Inputting the 2 DNA Sequences"
   ]
  },
  {
   "cell_type": "code",
   "execution_count": 3,
   "id": "b67fbf4e",
   "metadata": {},
   "outputs": [],
   "source": [
    "seq1 = \"ACGTTGACCTGTAACCTC\"\n",
    "seq2 = \"ACCTTGTCCTCTTTGCCC\"\n",
    "\n",
    "#Sequences to List \n",
    "seq1_list = list(seq1)\n",
    "seq2_list = list(seq2)"
   ]
  },
  {
   "cell_type": "markdown",
   "id": "6585c90d",
   "metadata": {},
   "source": [
    "### Specifying Algorithm Tuneable Parameters "
   ]
  },
  {
   "cell_type": "code",
   "execution_count": 4,
   "id": "360a582b",
   "metadata": {},
   "outputs": [],
   "source": [
    "windowSize = 9\n",
    "step = 3\n",
    "threshold = 4"
   ]
  },
  {
   "cell_type": "markdown",
   "id": "2ac4ad1d",
   "metadata": {},
   "source": [
    "## FInding Matches Considering: Window Size, Threshhold, Steps"
   ]
  },
  {
   "cell_type": "markdown",
   "id": "7f4e27cd",
   "metadata": {},
   "source": [
    "### Helper Functions"
   ]
  },
  {
   "cell_type": "code",
   "execution_count": 5,
   "id": "3f2f2a4b",
   "metadata": {},
   "outputs": [],
   "source": [
    "def countMatches(seq1,seq2):\n",
    "    count = 0\n",
    "    matchIterations = min([len(seq1), len(seq2)])\n",
    "    for index in range(matchIterations):\n",
    "        if seq1[index] == seq2[index]:\n",
    "            count += 1\n",
    "    return count\n",
    "\n",
    "def constructEmptyMatrix(cols, rows):\n",
    "    M = []\n",
    "    for columnIndex in range(cols):\n",
    "        M.append([])\n",
    "    for columnIndex in range(cols):\n",
    "        for rowIndex in range(rows):\n",
    "            M[columnIndex].append(None)\n",
    "    return M\n",
    "\n",
    "def sliceSequenceWithWindowShifts(sequence, windowSize, step):\n",
    "    slices = []\n",
    "    start = 0\n",
    "    for numSlices in range(len(sequence)):\n",
    "        if start+windowSize > len(sequence):\n",
    "            break\n",
    "        slice = sequence[start:start+windowSize]\n",
    "        slices.append(slice)\n",
    "        start += step\n",
    "    return slices"
   ]
  },
  {
   "cell_type": "markdown",
   "id": "85389d1b",
   "metadata": {},
   "source": [
    "### Implementation "
   ]
  },
  {
   "cell_type": "code",
   "execution_count": 6,
   "id": "d7bcc6da",
   "metadata": {
    "scrolled": false
   },
   "outputs": [
    {
     "name": "stdout",
     "output_type": "stream",
     "text": [
      "Win1: \t ['A', 'C', 'G', 'T', 'T', 'G', 'A', 'C', 'C']\n",
      "Win2: \t ['A', 'C', 'C', 'T', 'T', 'G', 'T', 'C', 'C']\n",
      "Match Count:  7\n",
      "--------------------\n",
      "Win1: \t ['A', 'C', 'G', 'T', 'T', 'G', 'A', 'C', 'C']\n",
      "Win2: \t ['T', 'T', 'G', 'T', 'C', 'C', 'T', 'C', 'T']\n",
      "Match Count:  3\n",
      "--------------------\n",
      "Win1: \t ['A', 'C', 'G', 'T', 'T', 'G', 'A', 'C', 'C']\n",
      "Win2: \t ['T', 'C', 'C', 'T', 'C', 'T', 'T', 'T', 'G']\n",
      "Match Count:  2\n",
      "--------------------\n",
      "Win1: \t ['A', 'C', 'G', 'T', 'T', 'G', 'A', 'C', 'C']\n",
      "Win2: \t ['T', 'C', 'T', 'T', 'T', 'G', 'C', 'C', 'C']\n",
      "Match Count:  6\n",
      "--------------------\n",
      "Win1: \t ['T', 'T', 'G', 'A', 'C', 'C', 'T', 'G', 'T']\n",
      "Win2: \t ['A', 'C', 'C', 'T', 'T', 'G', 'T', 'C', 'C']\n",
      "Match Count:  1\n",
      "--------------------\n",
      "Win1: \t ['T', 'T', 'G', 'A', 'C', 'C', 'T', 'G', 'T']\n",
      "Win2: \t ['T', 'T', 'G', 'T', 'C', 'C', 'T', 'C', 'T']\n",
      "Match Count:  7\n",
      "--------------------\n",
      "Win1: \t ['T', 'T', 'G', 'A', 'C', 'C', 'T', 'G', 'T']\n",
      "Win2: \t ['T', 'C', 'C', 'T', 'C', 'T', 'T', 'T', 'G']\n",
      "Match Count:  3\n",
      "--------------------\n",
      "Win1: \t ['T', 'T', 'G', 'A', 'C', 'C', 'T', 'G', 'T']\n",
      "Win2: \t ['T', 'C', 'T', 'T', 'T', 'G', 'C', 'C', 'C']\n",
      "Match Count:  1\n",
      "--------------------\n",
      "Win1: \t ['A', 'C', 'C', 'T', 'G', 'T', 'A', 'A', 'C']\n",
      "Win2: \t ['A', 'C', 'C', 'T', 'T', 'G', 'T', 'C', 'C']\n",
      "Match Count:  5\n",
      "--------------------\n",
      "Win1: \t ['A', 'C', 'C', 'T', 'G', 'T', 'A', 'A', 'C']\n",
      "Win2: \t ['T', 'T', 'G', 'T', 'C', 'C', 'T', 'C', 'T']\n",
      "Match Count:  1\n",
      "--------------------\n",
      "Win1: \t ['A', 'C', 'C', 'T', 'G', 'T', 'A', 'A', 'C']\n",
      "Win2: \t ['T', 'C', 'C', 'T', 'C', 'T', 'T', 'T', 'G']\n",
      "Match Count:  4\n",
      "--------------------\n",
      "Win1: \t ['A', 'C', 'C', 'T', 'G', 'T', 'A', 'A', 'C']\n",
      "Win2: \t ['T', 'C', 'T', 'T', 'T', 'G', 'C', 'C', 'C']\n",
      "Match Count:  3\n",
      "--------------------\n",
      "Win1: \t ['T', 'G', 'T', 'A', 'A', 'C', 'C', 'T', 'C']\n",
      "Win2: \t ['A', 'C', 'C', 'T', 'T', 'G', 'T', 'C', 'C']\n",
      "Match Count:  1\n",
      "--------------------\n",
      "Win1: \t ['T', 'G', 'T', 'A', 'A', 'C', 'C', 'T', 'C']\n",
      "Win2: \t ['T', 'T', 'G', 'T', 'C', 'C', 'T', 'C', 'T']\n",
      "Match Count:  2\n",
      "--------------------\n",
      "Win1: \t ['T', 'G', 'T', 'A', 'A', 'C', 'C', 'T', 'C']\n",
      "Win2: \t ['T', 'C', 'C', 'T', 'C', 'T', 'T', 'T', 'G']\n",
      "Match Count:  2\n",
      "--------------------\n",
      "Win1: \t ['T', 'G', 'T', 'A', 'A', 'C', 'C', 'T', 'C']\n",
      "Win2: \t ['T', 'C', 'T', 'T', 'T', 'G', 'C', 'C', 'C']\n",
      "Match Count:  4\n",
      "--------------------\n"
     ]
    }
   ],
   "source": [
    "# Slicing Sequences according to Window Size tuneable parameter \n",
    "seq1_slicedWindowLists = sliceSequenceWithWindowShifts(seq1_list, windowSize, step)\n",
    "seq2_slicedWindowLists = sliceSequenceWithWindowShifts(seq2_list, windowSize, step)\n",
    "\n",
    "# Constructing Empty 2-D Matrix for Matches \n",
    "matches = constructEmptyMatrix(len(seq1),len(seq2))\n",
    "\n",
    "for seq1_window, columnIndex in zip(seq1_slicedWindowLists, range(0,len(seq1))):\n",
    "    for seq2_window, rowIndex in zip(seq2_slicedWindowLists, range(0,len(seq2))):\n",
    "        print(\"Win1: \\t\", seq1_window)\n",
    "        print(\"Win2: \\t\",seq2_window)\n",
    "        windowMatches = countMatches(seq1_window, seq2_window)          \n",
    "        print(\"Match Count: \", windowMatches)\n",
    "        print(\"--------------------\")\n",
    "        if windowMatches >= threshold:\n",
    "            rowIndexToPutADotIn = int(rowIndex*step + windowSize/2)\n",
    "            columnIndexToPutADotIn = int(columnIndex*step + windowSize/2)\n",
    "            matches[columnIndexToPutADotIn][rowIndexToPutADotIn] = rowIndexToPutADotIn    "
   ]
  },
  {
   "cell_type": "markdown",
   "id": "d20efd97",
   "metadata": {},
   "source": [
    "## Graphing "
   ]
  },
  {
   "cell_type": "code",
   "execution_count": 7,
   "id": "11a1948b",
   "metadata": {},
   "outputs": [],
   "source": [
    "import matplotlib.pyplot as plt"
   ]
  },
  {
   "cell_type": "code",
   "execution_count": 8,
   "id": "aeebed33",
   "metadata": {
    "scrolled": false
   },
   "outputs": [
    {
     "data": {
      "image/png": "[encoded data removed]",
      "text/plain": [
       "<Figure size 480x480 with 1 Axes>"
      ]
     },
     "metadata": {
      "needs_background": "light"
     },
     "output_type": "display_data"
    }
   ],
   "source": [
    "fig, ax = plt.subplots(figsize=(6,6), dpi= 80)\n",
    "\n",
    "#Vertical & horizontal Grids\n",
    "ax.hlines(y=range(len(seq2_list)), \n",
    "          xmin=0, xmax=len(seq1_list), \n",
    "          color='gray', alpha=0.7, linewidth=1,linestyles='dashdot')\n",
    "ax.vlines(x=range(len(seq2_list)), \n",
    "          ymin=0, ymax=len(seq2_list), \n",
    "          color='gray', alpha=0.7, linewidth=1,linestyles='dashdot')\n",
    "\n",
    "# Plot Dot Points Matrix \n",
    "# iterate for each value in seq 1, plot its corrisponding seq 2 matches \n",
    "reversedMatches = reversed(matches)\n",
    "for seq1_index, matchesVector in zip(range(len(seq1_list)), reversedMatches):\n",
    "    ax.scatter(x=[seq1_index]*len(seq2_list),y=list(reversed(matchesVector)), s=60, color='firebrick')\n",
    "\n",
    "# Graph Titles & labels \n",
    "ax.set_title(f'Dot Matrix Using Window Scoring, \\n windowSize={windowSize}, threshold={threshold}, step={step} \\n', fontdict={'size':22})\n",
    "ax.set_xlabel('Sequence 1')\n",
    "ax.set_ylabel('Sequence 2')\n",
    "ax.set_xticks(range(len(seq1_list)))\n",
    "ax.set_yticks(range(len(seq2_list)))\n",
    "ax.xaxis.tick_top()\n",
    "\n",
    " # to reorder vertical axis for sequence 2\n",
    "ax.set_yticklabels(list(reversed(seq2_list)))\n",
    "ax.set_xticklabels(seq1_list)\n",
    "plt.show()"
   ]
  }
 ],
 "metadata": {
  "kernelspec": {
   "display_name": "Python 3",
   "language": "python",
   "name": "python3"
  },
  "language_info": {
   "codemirror_mode": {
    "name": "ipython",
    "version": 3
   },
   "file_extension": ".py",
   "mimetype": "text/x-python",
   "name": "python",
   "nbconvert_exporter": "python",
   "pygments_lexer": "ipython3",
   "version": "3.8.5"
  }
 },
 "nbformat": 4,
 "nbformat_minor": 5
}
