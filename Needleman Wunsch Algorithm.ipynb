{
 "cells": [
  {
   "cell_type": "markdown",
   "id": "b120b52b",
   "metadata": {},
   "source": [
    "# Name: Ahmad Ayman M. Bahaa El-Din\n",
    "# Semester: Spring 2021\n",
    "# ID: 17P6053\n",
    "# Needleman-Wunsch Algorithm For Global Sequence Allignment"
   ]
  },
  {
   "cell_type": "code",
   "execution_count": 1,
   "id": "b197776f",
   "metadata": {
    "scrolled": true
   },
   "outputs": [],
   "source": [
    "#! jupyter-nbconvert --to PDFviaHTML Needleman-Wunsch_Algorithm.ipynb"
   ]
  },
  {
   "cell_type": "markdown",
   "id": "4dec0be4",
   "metadata": {},
   "source": [
    "# Algorithm Tuneable Parameters "
   ]
  },
  {
   "cell_type": "code",
   "execution_count": 2,
   "id": "f3e137ba",
   "metadata": {},
   "outputs": [],
   "source": [
    "matchReward= 2\n",
    "mismatchPenalty= -1\n",
    "gapPenalty= -1"
   ]
  },
  {
   "cell_type": "markdown",
   "id": "81c4774e",
   "metadata": {},
   "source": [
    "# Helper Functions"
   ]
  },
  {
   "cell_type": "code",
   "execution_count": 3,
   "id": "59caba6d",
   "metadata": {},
   "outputs": [],
   "source": [
    "def constructEmptyMatrix(cols, rows):\n",
    "    M = []\n",
    "    for columnIndex in range(cols):\n",
    "        M.append([])\n",
    "    for columnIndex in range(cols):\n",
    "        for rowIndex in range(rows):\n",
    "            M[columnIndex].append(None)\n",
    "    return M\n",
    "\n",
    "def calculateMaximumScore(isMatched, upScore, leftScore, diagonalScore , matchReward, mismatchPenalty, gapPenalty):\n",
    "    maxScore = -99\n",
    "    path = None \n",
    "    \n",
    "    if (isMatched):\n",
    "        matchingResult = diagonalScore+matchReward \n",
    "        if matchingResult>maxScore:\n",
    "            maxScore = matchingResult\n",
    "            path = 'match'\n",
    "    else:\n",
    "        mismatchingResult = diagonalScore+mismatchPenalty\n",
    "        if mismatchingResult>maxScore:\n",
    "            maxScore = mismatchingResult\n",
    "            path = 'mismatch'\n",
    "            \n",
    "    upGapResult = upScore+gapPenalty\n",
    "    if upGapResult>maxScore:\n",
    "        maxScore = upGapResult\n",
    "        path = 'vertical'\n",
    "    leftGapResult = leftScore+gapPenalty\n",
    "    if leftGapResult>maxScore:\n",
    "        maxScore = leftGapResult\n",
    "        path = 'horizontal'\n",
    "\n",
    "    return maxScore, path\n",
    "\n",
    "def extractPath(path):\n",
    "    extractedPath = []\n",
    "    currentCell = path[0]['current']\n",
    "    nextCell = path[0]['previous']\n",
    "    extractedPath.append(currentCell)\n",
    "    for index in range(1, len(path)):\n",
    "        if nextCell == path[index]['current']:\n",
    "            currentCell = path[index]['current']\n",
    "            nextCell = path[index]['previous']\n",
    "            extractedPath.append(currentCell) \n",
    "    return extractedPath        \n",
    "\n",
    "def fillNeedlemanMatrix(M, seq1, seq2,matchReward, mismatchPenalty, gapPenalty):\n",
    "    solutionPath = []\n",
    "    for x in range(len(seq1)):\n",
    "        for y in range(len(seq2)):\n",
    "#             print(\"from Sequence 1: \",seq1[x])\n",
    "#             print(\"from Sequence 2: \", seq2[y])\n",
    "            \n",
    "            isMatched = True if seq1[x]==seq2[y] else False\n",
    "#             print(\"Is Matched: \", isMatched)\n",
    "            \n",
    "            upScore, leftScore, diagonalScore = -99,-99,-99\n",
    "            if y-1>=0:\n",
    "                upScore = M[x][y-1] if M[x][y-1]!= None else -99\n",
    "            if x-1>=0:\n",
    "                leftScore = M[x-1][y] if M[x-1][y]!= None else -99\n",
    "            if x-1>=0 and y-1>=0:\n",
    "                diagonalScore = M[x-1][y-1] if M[x-1][y-1]!= None else -99\n",
    "#             print(\"upScore: \", upScore)\n",
    "#             print(\"leftScore: \", leftScore)\n",
    "#             print(\"diagonalScore: \", diagonalScore)\n",
    "                    \n",
    "            score, path = calculateMaximumScore(isMatched, upScore, leftScore, diagonalScore,\n",
    "                                                matchReward, mismatchPenalty, gapPenalty)\n",
    "            if x == 0 and y==0:\n",
    "                score = 0\n",
    "#             print(f\"Adjusting M[{x}][{y}] to {score}\")\n",
    "#             print(f\"Path was: {path}\")\n",
    "#             print(\"--------------\")\n",
    "            M[x][y] = score\n",
    "            \n",
    "            step = {\n",
    "                'current':[], \n",
    "                'previous':[]\n",
    "            }\n",
    "            step['current'] =  [x,y]\n",
    "            # This constructs a step (previous[x,y], current[x,y])\n",
    "            if path == 'vertical':\n",
    "                step['previous']= [x,y-1]\n",
    "            if path == 'horizontal':\n",
    "                step['previous']= [x-1,y]\n",
    "            if path == 'match' or path == 'mismatch':\n",
    "                step['previous']= [x-1,y-1]\n",
    "            solutionPath.append(step) \n",
    "                \n",
    "    return M, solutionPath\n",
    "\n",
    "def extractOptimalAllignment(seq1, seq2, optimalSolutionPath):\n",
    "    optimal_seq1=[]\n",
    "    optimal_seq2=[]\n",
    "    \n",
    "    index_seq1 = optimalSolutionPath[0][0]\n",
    "    index_seq2 = optimalSolutionPath[0][1]\n",
    "    \n",
    "    for index in range(len(optimalSolutionPath)):\n",
    "        # Stopping condition: The last node is reached, and shall be appended regardless\n",
    "        if index+1 not in range(len(optimalSolutionPath)):\n",
    "            break\n",
    "        currentCell = optimalSolutionPath[index]\n",
    "        previousCell = optimalSolutionPath[index+1]\n",
    "        \n",
    "        # Vertical Gap: Same X-coordinate\n",
    "        if currentCell[0] == previousCell[0]:\n",
    "            optimal_seq1.append('_')\n",
    "            optimal_seq2.append(seq2[index_seq2])\n",
    "            index_seq2 -=1\n",
    "        # Horizontal Gap: Same Y-Coordinate\n",
    "        elif currentCell[1] == previousCell[1]:\n",
    "            optimal_seq1.append(seq1[index_seq1])\n",
    "            optimal_seq2.append('_')            \n",
    "            index_seq1 -=1\n",
    "        else: \n",
    "            optimal_seq1.append(seq1[index_seq1])\n",
    "            optimal_seq2.append(seq2[index_seq2])\n",
    "            index_seq1 -=1\n",
    "            index_seq2 -=1\n",
    "            \n",
    "    optimal_seq1.reverse()\n",
    "    optimal_seq2.reverse()\n",
    "    return optimal_seq1, optimal_seq2"
   ]
  },
  {
   "cell_type": "code",
   "execution_count": 4,
   "id": "f238fbff",
   "metadata": {},
   "outputs": [
    {
     "name": "stdout",
     "output_type": "stream",
     "text": [
      "Optimal Allignment Path is:  [[6, 5], [6, 4], [5, 3], [4, 2], [3, 1], [2, 1], [1, 0], [0, 0]]\n",
      "\n",
      "Optimal Sequence Allignment is: \n",
      "['A', 'C', 'G', 'C', 'T', 'G', '_']\n",
      "['_', 'C', '_', 'A', 'T', 'G', 'T']\n"
     ]
    }
   ],
   "source": [
    "seq1 = \"ACGCTG\"\n",
    "seq2 = \"CATGT\"\n",
    "\n",
    "#Sequences to List \n",
    "seq1_list = ['j']+(list(seq1))\n",
    "seq2_list = ['i']+(list(seq2))\n",
    "\n",
    "Matrix = constructEmptyMatrix(len(seq1_list), len(seq2_list))\n",
    "resultMatrix, allPossiblePaths = fillNeedlemanMatrix(Matrix, seq1_list, seq2_list, matchReward, mismatchPenalty, gapPenalty)\n",
    "reversedPossiblePaths = list(reversed(allPossiblePaths))\n",
    "optimalSolutionPath = extractPath(reversedPossiblePaths)\n",
    "print(\"Optimal Allignment Path is: \", optimalSolutionPath)\n",
    "\n",
    "optimal_seq1, optimal_seq2 = extractOptimalAllignment(seq1_list, seq2_list, optimalSolutionPath)\n",
    "\n",
    "print(\"\")\n",
    "print(\"Optimal Sequence Allignment is: \")\n",
    "print(optimal_seq1)\n",
    "print(optimal_seq2)"
   ]
  },
  {
   "cell_type": "markdown",
   "id": "fd5e3543",
   "metadata": {},
   "source": [
    "# Graphing "
   ]
  },
  {
   "cell_type": "code",
   "execution_count": 5,
   "id": "344f89d6",
   "metadata": {
    "scrolled": false
   },
   "outputs": [
    {
     "name": "stdout",
     "output_type": "stream",
     "text": [
      "Sequence 1:  ACGCTG\n",
      "Sequence 2:  CATGT\n",
      "\n",
      "Optimal Global Sequence Allignment using Needleman-Wunsch Algorithm: \n",
      "A C G C T G _\n",
      "_ C _ A T G T\n"
     ]
    },
    {
     "data": {
      "image/png": "[encoded data removed]",
      "text/plain": [
       "<Figure size 720x720 with 2 Axes>"
      ]
     },
     "metadata": {
      "needs_background": "light"
     },
     "output_type": "display_data"
    }
   ],
   "source": [
    "import numpy as np\n",
    "import matplotlib.pyplot as plt\n",
    "\n",
    "fig, ax = plt.subplots(1,2,figsize=(9,9), dpi= 80)\n",
    "\n",
    "# First Plot: Filled Matrix\n",
    "plotMatrix = [[0]*len(seq1_list)]*len(seq2_list) \n",
    "ax[0].matshow(plotMatrix, cmap='Blues')\n",
    "ax[0].set_title(f'Needleman-Wunsch Algorithm\\n')\n",
    "ax[0].set_xticks(range(len(seq1_list)))\n",
    "ax[0].set_yticks(range(len(seq2_list)))\n",
    "ax[0].set_yticklabels(seq2_list)\n",
    "ax[0].set_xticklabels(seq1_list)\n",
    "for i in range(len(seq2_list)):\n",
    "    for j in range(len(seq1_list)):\n",
    "        c = resultMatrix[j][i]\n",
    "        ax[0].text(j, i, str(c), va='center', ha='center', fontsize= 'large')\n",
    "        \n",
    "    \n",
    "# Second Plot: Optimal Path  \n",
    "ax[1].matshow(plotMatrix, cmap='Blues')\n",
    "ax[1].set_title(f'Optimal Global Solution Path\\n')\n",
    "ax[1].set_xticks(range(len(seq1_list)))\n",
    "ax[1].set_yticks(range(len(seq2_list)))\n",
    "ax[1].set_yticklabels(seq2_list)\n",
    "ax[1].set_xticklabels(seq1_list)\n",
    "for i in range(len(seq2_list)):\n",
    "    for j in range(len(seq1_list)):\n",
    "        c = resultMatrix[j][i]\n",
    "        ax[1].text(j, i, str(c), va='center', ha='center', fontsize= 'large')\n",
    "for index in range(len(optimalSolutionPath)) :\n",
    "    fromCell = optimalSolutionPath[index]\n",
    "    toCell = optimalSolutionPath[index+1 if index+1 in range(len(optimalSolutionPath)) else index ]\n",
    "    fromX, fromY, toX, toY = fromCell[0],fromCell[1], toCell[0], toCell[1] \n",
    "    ax[1].annotate(\"\", xy=(toX, toY), xytext=(fromX,fromY),arrowprops=dict(arrowstyle=\"->\"), color='grey')\n",
    "      \n",
    "print(\"Sequence 1: \", seq1)\n",
    "print(\"Sequence 2: \", seq2)\n",
    "print(\"\")\n",
    "print(\"Optimal Global Sequence Allignment using Needleman-Wunsch Algorithm: \")\n",
    "print(*optimal_seq1)\n",
    "print(*optimal_seq2)"
   ]
  }
 ],
 "metadata": {
  "kernelspec": {
   "display_name": "Python 3",
   "language": "python",
   "name": "python3"
  },
  "language_info": {
   "codemirror_mode": {
    "name": "ipython",
    "version": 3
   },
   "file_extension": ".py",
   "mimetype": "text/x-python",
   "name": "python",
   "nbconvert_exporter": "python",
   "pygments_lexer": "ipython3",
   "version": "3.8.5"
  }
 },
 "nbformat": 4,
 "nbformat_minor": 5
}
